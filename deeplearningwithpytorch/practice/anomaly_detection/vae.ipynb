{
 "cells": [
  {
   "cell_type": "code",
   "execution_count": 1,
   "metadata": {},
   "outputs": [],
   "source": [
    "import torch\n",
    "import torch.nn as nn\n",
    "import torch.optim as optim\n",
    "from torchvision import datasets, transforms\n",
    "from torch.utils.data import DataLoader\n",
    "import matplolib.pyplot as plt\n",
    "\n",
    "class VAE(nn.Module):\n",
    "    def __init__(self, input_dim, hidden_dim, latent_dim):\n",
    "        super(VAE, self).__init__()\n",
    "        self.fc1 = nn.Linear(input_dim, hidden_dim)\n",
    "        self.fc21 = nn.Linear(hidden_dim, latent_dim)  # Mean\n",
    "        self.fc22 = nn.Linear(hidden_dim, latent_dim)  # Log variance\n",
    "        self.fc3 = nn.Linear(latent_dim, hidden_dim)\n",
    "        self.fc4 = nn.Linear(hidden_dim, input_dim)\n",
    "\n",
    "    def encode(self, x):\n",
    "        h1 = torch.relu(self.fc1(x))\n",
    "        return self.fc21(h1), self.fc22(h1)\n",
    "\n",
    "    def reparameterize(self, mu, logvar):\n",
    "        std = torch.exp(0.5 * logvar)\n",
    "        eps = torch.randn_like(std)\n",
    "        return mu + eps * std\n",
    "\n",
    "    def decode(self, z):\n",
    "        h3 = torch.relu(self.fc3(z))\n",
    "        return torch.sigmoid(self.fc4(h3))\n",
    "\n",
    "    def forward(self, x):\n",
    "        mu, logvar = self.encode(x.view(-1, 784))\n",
    "        z = self.reparameterize(mu, logvar)\n",
    "        return self.decode(z), mu, logvar\n",
    "\n",
    "def loss_function(recon_x, x, mu, logvar):\n",
    "    BCE = nn.functional.binary_cross_entropy(recon_x, x.view(-1, 784), reduction='sum')\n",
    "    KLD = -0.5 * torch.sum(1 + logvar - mu.pow(2) - logvar.exp())\n",
    "    return BCE + KLD\n"
   ]
  },
  {
   "cell_type": "code",
   "execution_count": 32,
   "metadata": {},
   "outputs": [
    {
     "name": "stdout",
     "output_type": "stream",
     "text": [
      "Epoch 0, Loss: 165.3868912923177\n",
      "Epoch 1, Loss: 121.84322708333333\n",
      "Epoch 2, Loss: 114.59458510742188\n",
      "Epoch 3, Loss: 111.60850307617187\n",
      "Epoch 4, Loss: 109.90549752604167\n",
      "Epoch 5, Loss: 108.68696298828125\n",
      "Epoch 6, Loss: 107.87883416341145\n",
      "Epoch 7, Loss: 107.14194397786459\n",
      "Epoch 8, Loss: 106.69047286783854\n",
      "Epoch 9, Loss: 106.2750839029948\n"
     ]
    }
   ],
   "source": [
    "transform = transforms.ToTensor()\n",
    "train_dataset = datasets.MNIST('./data', train=True, download=True, transform=transform)\n",
    "train_loader = DataLoader(train_dataset, batch_size=128, shuffle=True)\n",
    "\n",
    "device = torch.device('cuda' if torch.cuda.is_available() else 'cpu')\n",
    "\n",
    "model = VAE(input_dim=784, hidden_dim=400, latent_dim=20).to(device)\n",
    "optimizer = optim.Adam(model.parameters(), lr=1e-3)\n",
    "\n",
    "\n",
    "\n",
    "for epoch in range(10):\n",
    "    model.train()\n",
    "    train_loss = 0\n",
    "    for batch_idx, (data, _) in enumerate(train_loader):\n",
    "        data = data.to(device)\n",
    "        optimizer.zero_grad()\n",
    "        recon_batch, mu, logvar = model(data)\n",
    "        loss = loss_function(recon_batch, data, mu, logvar)\n",
    "        loss.backward()\n",
    "        train_loss += loss.item()\n",
    "        optimizer.step()\n",
    "    print(f'Epoch {epoch}, Loss: {train_loss / len(train_loader.dataset)}')\n"
   ]
  },
  {
   "cell_type": "code",
   "execution_count": 42,
   "metadata": {},
   "outputs": [
    {
     "data": {
      "image/png": "[encoded data removed]",
      "text/plain": [
       "<Figure size 640x480 with 2 Axes>"
      ]
     },
     "metadata": {},
     "output_type": "display_data"
    }
   ],
   "source": [
    "\n",
    "model.eval()\n",
    "with torch.no_grad():\n",
    "    data, labels = next(iter(train_loader))\n",
    "    data = data.to(device)\n",
    "    # mu, logvar = model.encode(data.view(-1, 784))\n",
    "    # z = model.reparameterize(mu, logvar)\n",
    "    recon_batch, mu, logvar = model(data)\n",
    "    # z = z.cpu().numpy()\n",
    "    # labels = labels.numpy()\n",
    "\n",
    "# plt.figure(figsize=(8, 6))\n",
    "# plt.scatter(z[:, 0], z[:, 1], c=labels, cmap='viridis')\n",
    "# plt.colorbar()\n",
    "# plt.xlabel('Latent Dimension 1')\n",
    "# plt.ylabel('Latent Dimension 2')\n",
    "# plt.title('Latent Space Visualization')\n",
    "# plt.show()\n",
    "plt.subplot(1, 2, 1)\n",
    "plt.imshow(recon_batch[0].view(28, 28).cpu().numpy(), cmap='gray')\n",
    "plt.title('Reconstructed Image')\n",
    "plt.subplot(1, 2, 2)\n",
    "plt.imshow(data[0].view(28, 28).cpu().numpy(), cmap='gray')\n",
    "plt.title('Original Image')\n",
    "plt.show()"
   ]
  },
  {
   "cell_type": "code",
   "execution_count": 18,
   "metadata": {},
   "outputs": [
    {
     "data": {
      "text/plain": [
       "(128, 20)"
      ]
     },
     "execution_count": 18,
     "metadata": {},
     "output_type": "execute_result"
    }
   ],
   "source": []
  },
  {
   "cell_type": "code",
   "execution_count": null,
   "metadata": {},
   "outputs": [],
   "source": []
  }
 ],
 "metadata": {
  "kernelspec": {
   "display_name": "ML",
   "language": "python",
   "name": "ml"
  },
  "language_info": {
   "codemirror_mode": {
    "name": "ipython",
    "version": 3
   },
   "file_extension": ".py",
   "mimetype": "text/x-python",
   "name": "python",
   "nbconvert_exporter": "python",
   "pygments_lexer": "ipython3",
   "version": "3.11.8"
  }
 },
 "nbformat": 4,
 "nbformat_minor": 2
}
