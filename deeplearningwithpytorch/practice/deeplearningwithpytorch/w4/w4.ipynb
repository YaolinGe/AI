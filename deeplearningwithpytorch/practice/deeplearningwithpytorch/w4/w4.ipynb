{
 "cells": [
  {
   "cell_type": "code",
   "execution_count": 2,
   "metadata": {},
   "outputs": [],
   "source": [
    "import torch \n",
    "import numpy as np \n",
    "import pandas as pd \n",
    "import matplotlib.pyplot as plt\n",
    "import csv \n"
   ]
  },
  {
   "cell_type": "code",
   "execution_count": 4,
   "metadata": {},
   "outputs": [],
   "source": [
    "wine_path = r\"C:\\Users\\nq9093\\CodeSpace\\DeepLearningAI\\DeepLearning\\PyTorchBasics\\repo\\data\\p1ch4\\tabular-wine\\winequality-white.csv\"\n",
    "wineq_numpy = np.loadtxt(wine_path, dtype=np.float32, delimiter=\";\", skiprows=1)\n",
    "col_list = next(csv.reader(open(wine_path), delimiter=';'))"
   ]
  },
  {
   "cell_type": "code",
   "execution_count": 5,
   "metadata": {},
   "outputs": [
    {
     "data": {
      "text/plain": [
       "(array([[ 7.  ,  0.27,  0.36, ...,  0.45,  8.8 ,  6.  ],\n",
       "        [ 6.3 ,  0.3 ,  0.34, ...,  0.49,  9.5 ,  6.  ],\n",
       "        [ 8.1 ,  0.28,  0.4 , ...,  0.44, 10.1 ,  6.  ],\n",
       "        ...,\n",
       "        [ 6.5 ,  0.24,  0.19, ...,  0.46,  9.4 ,  6.  ],\n",
       "        [ 5.5 ,  0.29,  0.3 , ...,  0.38, 12.8 ,  7.  ],\n",
       "        [ 6.  ,  0.21,  0.38, ...,  0.32, 11.8 ,  6.  ]], dtype=float32),\n",
       " ['fixed acidity',\n",
       "  'volatile acidity',\n",
       "  'citric acid',\n",
       "  'residual sugar',\n",
       "  'chlorides',\n",
       "  'free sulfur dioxide',\n",
       "  'total sulfur dioxide',\n",
       "  'density',\n",
       "  'pH',\n",
       "  'sulphates',\n",
       "  'alcohol',\n",
       "  'quality'])"
      ]
     },
     "execution_count": 5,
     "metadata": {},
     "output_type": "execute_result"
    }
   ],
   "source": [
    "wineq_numpy, col_list "
   ]
  },
  {
   "cell_type": "code",
   "execution_count": 6,
   "metadata": {},
   "outputs": [
    {
     "data": {
      "text/plain": [
       "(torch.Size([4898, 12]), torch.float32)"
      ]
     },
     "execution_count": 6,
     "metadata": {},
     "output_type": "execute_result"
    }
   ],
   "source": [
    "wineq = torch.from_numpy(wineq_numpy)\n",
    "wineq.shape, wineq.dtype"
   ]
  },
  {
   "cell_type": "code",
   "execution_count": 7,
   "metadata": {},
   "outputs": [
    {
     "data": {
      "text/plain": [
       "(tensor([[ 7.0000,  0.2700,  0.3600,  ...,  3.0000,  0.4500,  8.8000],\n",
       "         [ 6.3000,  0.3000,  0.3400,  ...,  3.3000,  0.4900,  9.5000],\n",
       "         [ 8.1000,  0.2800,  0.4000,  ...,  3.2600,  0.4400, 10.1000],\n",
       "         ...,\n",
       "         [ 6.5000,  0.2400,  0.1900,  ...,  2.9900,  0.4600,  9.4000],\n",
       "         [ 5.5000,  0.2900,  0.3000,  ...,  3.3400,  0.3800, 12.8000],\n",
       "         [ 6.0000,  0.2100,  0.3800,  ...,  3.2600,  0.3200, 11.8000]]),\n",
       " torch.Size([4898, 11]))"
      ]
     },
     "execution_count": 7,
     "metadata": {},
     "output_type": "execute_result"
    }
   ],
   "source": [
    "data = wineq[:, :-1]\n",
    "data, data.shape"
   ]
  },
  {
   "cell_type": "code",
   "execution_count": 8,
   "metadata": {},
   "outputs": [
    {
     "data": {
      "text/plain": [
       "(tensor([6, 6, 6,  ..., 6, 7, 6]), torch.Size([4898]))"
      ]
     },
     "execution_count": 8,
     "metadata": {},
     "output_type": "execute_result"
    }
   ],
   "source": [
    "target = wineq[:, -1].long()\n",
    "target, target.shape"
   ]
  },
  {
   "cell_type": "code",
   "execution_count": 12,
   "metadata": {},
   "outputs": [
    {
     "data": {
      "text/plain": [
       "tensor([[0., 0., 0.,  ..., 0., 0., 0.],\n",
       "        [0., 0., 0.,  ..., 0., 0., 0.],\n",
       "        [0., 0., 0.,  ..., 0., 0., 0.],\n",
       "        ...,\n",
       "        [0., 0., 0.,  ..., 0., 0., 0.],\n",
       "        [0., 0., 0.,  ..., 1., 0., 0.],\n",
       "        [0., 0., 0.,  ..., 0., 0., 0.]])"
      ]
     },
     "execution_count": 12,
     "metadata": {},
     "output_type": "execute_result"
    }
   ],
   "source": [
    "target_onehot = torch.zeros(target.shape[0], 10)\n",
    "target_onehot.scatter_(1, target.unsqueeze(1), 1.0)"
   ]
  },
  {
   "cell_type": "code",
   "execution_count": 20,
   "metadata": {},
   "outputs": [
    {
     "data": {
      "text/plain": [
       "tensor([[6],\n",
       "        [6],\n",
       "        [6],\n",
       "        ...,\n",
       "        [6],\n",
       "        [7],\n",
       "        [6]])"
      ]
     },
     "execution_count": 20,
     "metadata": {},
     "output_type": "execute_result"
    }
   ],
   "source": [
    "target_onehot[0, :], target[0]\n",
    "target_unsqueezed = target.unsqueeze(1)\n",
    "target_unsqueezed\n"
   ]
  },
  {
   "cell_type": "code",
   "execution_count": 26,
   "metadata": {},
   "outputs": [
    {
     "data": {
      "text/plain": [
       "tensor([6.8548e+00, 2.7824e-01, 3.3419e-01, 6.3914e+00, 4.5772e-02, 3.5308e+01,\n",
       "        1.3836e+02, 9.9403e-01, 3.1883e+00, 4.8985e-01, 1.0514e+01])"
      ]
     },
     "execution_count": 26,
     "metadata": {},
     "output_type": "execute_result"
    }
   ],
   "source": [
    "data_mean = torch.mean(data, dim=0)\n",
    "data_mean"
   ]
  },
  {
   "cell_type": "code",
   "execution_count": 27,
   "metadata": {},
   "outputs": [
    {
     "data": {
      "text/plain": [
       "tensor([7.1211e-01, 1.0160e-02, 1.4646e-02, 2.5726e+01, 4.7733e-04, 2.8924e+02,\n",
       "        1.8061e+03, 8.9455e-06, 2.2801e-02, 1.3025e-02, 1.5144e+00])"
      ]
     },
     "execution_count": 27,
     "metadata": {},
     "output_type": "execute_result"
    }
   ],
   "source": [
    "data_var = torch.var(data, dim=0)\n",
    "data_var"
   ]
  },
  {
   "cell_type": "code",
   "execution_count": 28,
   "metadata": {},
   "outputs": [],
   "source": [
    "data_normalized = (data - data_mean) / torch.sqrt(data_var)\n"
   ]
  },
  {
   "cell_type": "code",
   "execution_count": 32,
   "metadata": {},
   "outputs": [
    {
     "data": {
      "text/plain": [
       "(torch.Size([4898]), torch.bool, tensor(20))"
      ]
     },
     "execution_count": 32,
     "metadata": {},
     "output_type": "execute_result"
    }
   ],
   "source": [
    "bad_indexes = target <= 3\n",
    "bad_indexes.shape, bad_indexes.dtype, bad_indexes.sum()"
   ]
  },
  {
   "cell_type": "code",
   "execution_count": 33,
   "metadata": {},
   "outputs": [
    {
     "data": {
      "text/plain": [
       "torch.Size([20, 11])"
      ]
     },
     "execution_count": 33,
     "metadata": {},
     "output_type": "execute_result"
    }
   ],
   "source": [
    "bad_data = data[bad_indexes]\n",
    "bad_data.shape"
   ]
  },
  {
   "cell_type": "code",
   "execution_count": 34,
   "metadata": {},
   "outputs": [],
   "source": [
    "bad_data = data[target <= 3]\n",
    "mid_data = data[(target > 3) & (target < 7)]\n",
    "good_data = data[target >= 7]\n",
    "\n",
    "bad_mean = torch.mean(bad_data, dim=0)\n",
    "mid_mean = torch.mean(mid_data, dim=0)\n",
    "good_mean = torch.mean(good_data, dim=0)"
   ]
  },
  {
   "cell_type": "code",
   "execution_count": 36,
   "metadata": {},
   "outputs": [
    {
     "data": {
      "text/plain": [
       "(torch.Size([20, 11]), torch.Size([3818, 11]), torch.Size([1060, 11]))"
      ]
     },
     "execution_count": 36,
     "metadata": {},
     "output_type": "execute_result"
    }
   ],
   "source": [
    "bad_data.shape, mid_data.shape, good_data.shape\n"
   ]
  },
  {
   "cell_type": "code",
   "execution_count": 37,
   "metadata": {},
   "outputs": [
    {
     "data": {
      "text/plain": [
       "True"
      ]
     },
     "execution_count": 37,
     "metadata": {},
     "output_type": "execute_result"
    }
   ],
   "source": [
    "bad_data.shape[0] + mid_data.shape[0] + good_data.shape[0] == data.shape[0]"
   ]
  },
  {
   "cell_type": "code",
   "execution_count": 39,
   "metadata": {},
   "outputs": [
    {
     "data": {
      "text/plain": [
       "(torch.Size([11]), torch.Size([11]), torch.Size([11]))"
      ]
     },
     "execution_count": 39,
     "metadata": {},
     "output_type": "execute_result"
    }
   ],
   "source": [
    "bad_mean.shape, mid_mean.shape, good_mean.shape"
   ]
  },
  {
   "cell_type": "code",
   "execution_count": 40,
   "metadata": {},
   "outputs": [
    {
     "name": "stdout",
     "output_type": "stream",
     "text": [
      " 0 fixed acidity          7.60   6.89   6.73\n",
      " 1 volatile acidity       0.33   0.28   0.27\n",
      " 2 citric acid            0.34   0.34   0.33\n",
      " 3 residual sugar         6.39   6.71   5.26\n",
      " 4 chlorides              0.05   0.05   0.04\n",
      " 5 free sulfur dioxide   53.33  35.42  34.55\n",
      " 6 total sulfur dioxide 170.60 141.83 125.25\n",
      " 7 density                0.99   0.99   0.99\n",
      " 8 pH                     3.19   3.18   3.22\n",
      " 9 sulphates              0.47   0.49   0.50\n",
      "10 alcohol               10.34  10.26  11.42\n"
     ]
    }
   ],
   "source": [
    "for i, args in enumerate(zip(col_list, bad_mean, mid_mean, good_mean)): \n",
    "    print('{:2} {:20} {:6.2f} {:6.2f} {:6.2f}'.format(i, *args))"
   ]
  },
  {
   "cell_type": "code",
   "execution_count": 42,
   "metadata": {},
   "outputs": [
    {
     "data": {
      "text/plain": [
       "(torch.Size([4898]), torch.bool, tensor(2727))"
      ]
     },
     "execution_count": 42,
     "metadata": {},
     "output_type": "execute_result"
    }
   ],
   "source": [
    "total_sulfur_threshold = 141.83\n",
    "total_sulfur_data = data[:, 6]\n",
    "predicted_indexes = torch.lt(total_sulfur_data, total_sulfur_threshold)\n",
    "predicted_indexes.shape, predicted_indexes.dtype, predicted_indexes.sum()"
   ]
  },
  {
   "cell_type": "code",
   "execution_count": 43,
   "metadata": {},
   "outputs": [
    {
     "data": {
      "text/plain": [
       "(torch.Size([4898]), torch.bool, tensor(3258))"
      ]
     },
     "execution_count": 43,
     "metadata": {},
     "output_type": "execute_result"
    }
   ],
   "source": [
    "actual_indexes = target > 5\n",
    "actual_indexes.shape, actual_indexes.dtype, actual_indexes.sum()"
   ]
  },
  {
   "cell_type": "code",
   "execution_count": 44,
   "metadata": {},
   "outputs": [
    {
     "data": {
      "text/plain": [
       "(2018, 0.74000733406674, 0.6193984039287906)"
      ]
     },
     "execution_count": 44,
     "metadata": {},
     "output_type": "execute_result"
    }
   ],
   "source": [
    "n_matches = torch.sum(actual_indexes & predicted_indexes).item()\n",
    "n_predicted = torch.sum(predicted_indexes).item()\n",
    "n_actual = torch.sum(actual_indexes).item()\n",
    "n_matches, n_matches / n_predicted, n_matches / n_actual"
   ]
  },
  {
   "cell_type": "code",
   "execution_count": 50,
   "metadata": {},
   "outputs": [],
   "source": [
    "bike_path = r\"C:\\Users\\nq9093\\CodeSpace\\DeepLearningAI\\DeepLearning\\PyTorchBasics\\repo\\data\\p1ch4\\bike-sharing-dataset\\hour-fixed.csv\"\n",
    "bikes_numpy = np.loadtxt(bike_path, dtype=np.float32, delimiter=\",\", skiprows=1, converters={1: lambda x: float(x[8:10])})"
   ]
  },
  {
   "cell_type": "code",
   "execution_count": 52,
   "metadata": {},
   "outputs": [
    {
     "data": {
      "text/plain": [
       "(torch.Size([17520, 17]), (17, 1))"
      ]
     },
     "execution_count": 52,
     "metadata": {},
     "output_type": "execute_result"
    }
   ],
   "source": [
    "bikes = torch.from_numpy(bikes_numpy)\n",
    "bikes.shape, bikes.stride()"
   ]
  },
  {
   "cell_type": "code",
   "execution_count": 55,
   "metadata": {},
   "outputs": [
    {
     "data": {
      "text/plain": [
       "(torch.Size([730, 24, 17]), (408, 17, 1))"
      ]
     },
     "execution_count": 55,
     "metadata": {},
     "output_type": "execute_result"
    }
   ],
   "source": [
    "daily_bikes = bikes.view(-1, 24, bikes.shape[1])\n",
    "daily_bikes.shape, daily_bikes.stride()"
   ]
  },
  {
   "cell_type": "code",
   "execution_count": 112,
   "metadata": {},
   "outputs": [
    {
     "data": {
      "text/plain": [
       "(torch.Size([730, 17, 24]), (408, 1, 17))"
      ]
     },
     "execution_count": 112,
     "metadata": {},
     "output_type": "execute_result"
    }
   ],
   "source": [
    "daily_bikes = daily_bikes.transpose(1, 2)\n",
    "daily_bikes.shape, daily_bikes.stride()"
   ]
  },
  {
   "cell_type": "code",
   "execution_count": 94,
   "metadata": {},
   "outputs": [
    {
     "name": "stdout",
     "output_type": "stream",
     "text": [
      "tensor([[1., 0., 0., 0.],\n",
      "        [1., 0., 0., 0.],\n",
      "        [1., 0., 0., 0.],\n",
      "        [1., 0., 0., 0.],\n",
      "        [1., 0., 0., 0.],\n",
      "        [0., 1., 0., 0.],\n",
      "        [1., 0., 0., 0.],\n",
      "        [1., 0., 0., 0.],\n",
      "        [1., 0., 0., 0.],\n",
      "        [1., 0., 0., 0.],\n",
      "        [1., 0., 0., 0.],\n",
      "        [1., 0., 0., 0.],\n",
      "        [1., 0., 0., 0.],\n",
      "        [0., 1., 0., 0.],\n",
      "        [0., 1., 0., 0.],\n",
      "        [0., 1., 0., 0.],\n",
      "        [0., 1., 0., 0.],\n",
      "        [0., 1., 0., 0.],\n",
      "        [0., 0., 1., 0.],\n",
      "        [0., 0., 1., 0.],\n",
      "        [0., 1., 0., 0.],\n",
      "        [0., 1., 0., 0.],\n",
      "        [0., 1., 0., 0.],\n",
      "        [0., 1., 0., 0.]])\n"
     ]
    },
    {
     "data": {
      "text/plain": [
       "(torch.Size([24, 4]), (4, 1))"
      ]
     },
     "execution_count": 94,
     "metadata": {},
     "output_type": "execute_result"
    }
   ],
   "source": [
    "first_day = bikes[:24].long()\n",
    "weather_onehot = torch.zeros(first_day.shape[0], 4)\n",
    "first_day[:,9]\n",
    "weather_onehot.scatter_(1, first_day[:,9].unsqueeze(1).long()-1, 1.0)\n",
    "print(weather_onehot)\n",
    "weather_onehot.shape, weather_onehot.stride()"
   ]
  },
  {
   "cell_type": "code",
   "execution_count": 99,
   "metadata": {},
   "outputs": [
    {
     "data": {
      "text/plain": [
       "tensor([[ 1.0000,  1.0000,  1.0000,  0.0000,  1.0000,  0.0000,  0.0000,  6.0000,\n",
       "          0.0000,  1.0000,  0.2400,  0.2879,  0.8100,  0.0000,  3.0000, 13.0000,\n",
       "         16.0000,  1.0000,  0.0000,  0.0000,  0.0000]])"
      ]
     },
     "execution_count": 99,
     "metadata": {},
     "output_type": "execute_result"
    }
   ],
   "source": [
    "torch.cat((bikes[:24], weather_onehot), 1)[:1]"
   ]
  },
  {
   "cell_type": "code",
   "execution_count": 114,
   "metadata": {},
   "outputs": [
    {
     "data": {
      "text/plain": [
       "torch.Size([730, 4, 24])"
      ]
     },
     "execution_count": 114,
     "metadata": {},
     "output_type": "execute_result"
    }
   ],
   "source": [
    "daily_weather_onehot = torch.zeros(daily_bikes.shape[0], 4, daily_bikes.shape[2])\n",
    "daily_weather_onehot.shape, daily_weather_onehot.stride()\n",
    "daily_weather_onehot.scatter_(1, daily_bikes[:,9,:].long().unsqueeze(1)-1, 1.0)\n",
    "daily_weather_onehot.shape"
   ]
  },
  {
   "cell_type": "code",
   "execution_count": 115,
   "metadata": {},
   "outputs": [],
   "source": [
    "daily_bikes = torch.cat((daily_bikes, daily_weather_onehot), dim=1)"
   ]
  },
  {
   "cell_type": "code",
   "execution_count": 118,
   "metadata": {},
   "outputs": [],
   "source": [
    "daily_bikes[:, 9, :] = (daily_bikes[:, 9, :] - 1.0) / 3.0"
   ]
  },
  {
   "cell_type": "code",
   "execution_count": 120,
   "metadata": {},
   "outputs": [
    {
     "data": {
      "text/plain": [
       "tensor([ 1.0000,  1.0000,  1.0000,  0.0000,  1.0000,  0.0000,  0.0000,  6.0000,\n",
       "         0.0000,  0.0000,  0.2400,  0.2879,  0.8100,  0.0000,  3.0000, 13.0000,\n",
       "        16.0000,  1.0000,  0.0000,  0.0000,  0.0000])"
      ]
     },
     "execution_count": 120,
     "metadata": {},
     "output_type": "execute_result"
    }
   ],
   "source": [
    "daily_bikes[0, :, 0]"
   ]
  },
  {
   "cell_type": "code",
   "execution_count": 121,
   "metadata": {},
   "outputs": [],
   "source": [
    "temp = daily_bikes[:, 10, :]\n",
    "temp_min = torch.min(temp)\n",
    "temp_max = torch.max(temp)\n",
    "daily_bikes[:, 10, :] = (daily_bikes[:, 10, :] - temp_min) / (temp_max - temp_min)"
   ]
  },
  {
   "cell_type": "code",
   "execution_count": 127,
   "metadata": {},
   "outputs": [
    {
     "data": {
      "image/png": "[encoded data removed]",
      "text/plain": [
       "<Figure size 640x480 with 1 Axes>"
      ]
     },
     "metadata": {},
     "output_type": "display_data"
    },
    {
     "data": {
      "image/png": "[encoded data removed]",
      "text/plain": [
       "<Figure size 640x480 with 1 Axes>"
      ]
     },
     "metadata": {},
     "output_type": "display_data"
    },
    {
     "data": {
      "image/png": "[encoded data removed]",
      "text/plain": [
       "<Figure size 640x480 with 1 Axes>"
      ]
     },
     "metadata": {},
     "output_type": "display_data"
    }
   ],
   "source": [
    "import seaborn as sns\n",
    "\n",
    "temp = daily_bikes[:, 10, :]\n",
    "daily_bikes[:, 10, :] = (daily_bikes[:, 10, :] - torch.mean(temp)) / torch.std(temp)\n",
    "plt.plot(temp.flatten())\n",
    "plt.show()\n",
    "plt.hist(temp.flatten(), bins=100)\n",
    "plt.show()\n",
    "sns.histplot(temp.flatten(), bins=100, kde=True)\n",
    "plt.show()"
   ]
  },
  {
   "cell_type": "code",
   "execution_count": 128,
   "metadata": {},
   "outputs": [],
   "source": [
    "with open(\"pride_and_prejudice.txt\", encoding=\"utf-8\") as f: \n",
    "    text = f.read()\n"
   ]
  },
  {
   "cell_type": "code",
   "execution_count": 137,
   "metadata": {},
   "outputs": [
    {
     "data": {
      "text/plain": [
       "'fancied herself nervous. The business of her life was to get her'"
      ]
     },
     "execution_count": 137,
     "metadata": {},
     "output_type": "execute_result"
    }
   ],
   "source": [
    "lines = text.split('\\n')\n",
    "line = lines[209]\n",
    "line"
   ]
  },
  {
   "cell_type": "code",
   "execution_count": 139,
   "metadata": {},
   "outputs": [
    {
     "data": {
      "text/plain": [
       "torch.Size([64, 128])"
      ]
     },
     "execution_count": 139,
     "metadata": {},
     "output_type": "execute_result"
    }
   ],
   "source": [
    "letter_t = torch.zeros(len(line), 128)\n",
    "letter_t.shape"
   ]
  },
  {
   "cell_type": "code",
   "execution_count": 141,
   "metadata": {},
   "outputs": [],
   "source": [
    "for i, letter in enumerate(line.lower().strip()): \n",
    "    letter_index = ord(letter) if ord(letter) < 128 else 0\n",
    "    letter_t[i][letter_index] = 1"
   ]
  },
  {
   "cell_type": "code",
   "execution_count": 159,
   "metadata": {},
   "outputs": [
    {
     "data": {
      "text/plain": [
       "('fancied herself nervous. The business of her life was to get her',\n",
       " ['fancied',\n",
       "  'herself',\n",
       "  'nervous',\n",
       "  'the',\n",
       "  'business',\n",
       "  'of',\n",
       "  'her',\n",
       "  'life',\n",
       "  'was',\n",
       "  'to',\n",
       "  'get',\n",
       "  'her'])"
      ]
     },
     "execution_count": 159,
     "metadata": {},
     "output_type": "execute_result"
    }
   ],
   "source": [
    "def clean_words(input_str):\n",
    "    punctuation = '.,;:\"!?”“_-\\'()[]{}&@#$%^+=<>/`~*|'\n",
    "    word_list = input_str.lower().replace('\\n', ' ').split()\n",
    "    word_list = [word.strip(punctuation) for word in word_list]\n",
    "    return word_list\n",
    "\n",
    "words_in_line = clean_words(line)\n",
    "line, words_in_line"
   ]
  },
  {
   "cell_type": "code",
   "execution_count": 160,
   "metadata": {},
   "outputs": [],
   "source": [
    "word_list = sorted(set(clean_words(text)))\n"
   ]
  },
  {
   "cell_type": "code",
   "execution_count": 162,
   "metadata": {},
   "outputs": [
    {
     "data": {
      "text/plain": [
       "(['',\n",
       "  '1',\n",
       "  '1.a',\n",
       "  '1.b',\n",
       "  '1.c',\n",
       "  '1.d',\n",
       "  '1.e',\n",
       "  '1.e.1',\n",
       "  '1.e.2',\n",
       "  '1.e.3',\n",
       "  '1.e.4',\n",
       "  '1.e.5',\n",
       "  '1.e.6',\n",
       "  '1.e.7',\n",
       "  '1.e.8',\n",
       "  '1.e.9',\n",
       "  '1.f',\n",
       "  '1.f.1',\n",
       "  '1.f.2',\n",
       "  '1.f.3',\n",
       "  '1.f.4',\n",
       "  '1.f.5',\n",
       "  '1.f.6',\n",
       "  '1500',\n",
       "  '15th',\n",
       "  '1813',\n",
       "  '1815',\n",
       "  '18th',\n",
       "  '1^{st',\n",
       "  '2',\n",
       "  '20',\n",
       "  '2001',\n",
       "  '2013',\n",
       "  '26',\n",
       "  '26th',\n",
       "  '3',\n",
       "  '30',\n",
       "  '4',\n",
       "  '42671',\n",
       "  '42671-h.htm',\n",
       "  '42671-h.zip',\n",
       "  '5',\n",
       "  '5,000',\n",
       "  '50',\n",
       "  '501(c)(3',\n",
       "  '596-1887',\n",
       "  '6',\n",
       "  '60',\n",
       "  '64-6221541',\n",
       "  '72',\n",
       "  '801',\n",
       "  '809',\n",
       "  '84116',\n",
       "  '9',\n",
       "  '90',\n",
       "  'a',\n",
       "  'a-year',\n",
       "  'abatement',\n",
       "  'abhorrence',\n",
       "  'abhorrent',\n",
       "  'abide',\n",
       "  'abiding',\n",
       "  'abilities',\n",
       "  'able',\n",
       "  'ablution',\n",
       "  'abode',\n",
       "  'abominable',\n",
       "  'abominable!--i',\n",
       "  'abominably',\n",
       "  'abominate',\n",
       "  'abound',\n",
       "  'about',\n",
       "  'abouts',\n",
       "  'above',\n",
       "  'above-mentioned',\n",
       "  'abroad',\n",
       "  'abrupt',\n",
       "  'abruptly',\n",
       "  'abruptness',\n",
       "  'absence',\n",
       "  'absent',\n",
       "  'absolute',\n",
       "  'absolutely',\n",
       "  'absurd',\n",
       "  'absurd.--i',\n",
       "  'absurdities',\n",
       "  'absurdity',\n",
       "  'abundant',\n",
       "  'abundantly',\n",
       "  'abuse',\n",
       "  'abused',\n",
       "  'abusing',\n",
       "  'abusive',\n",
       "  'accede',\n",
       "  'acceded',\n",
       "  'acceding',\n",
       "  'accent',\n",
       "  'accents',\n",
       "  'accept',\n",
       "  'acceptable',\n",
       "  'acceptance',\n",
       "  'accepted',\n",
       "  'accepting',\n",
       "  'access',\n",
       "  'accessed',\n",
       "  'accessible',\n",
       "  'accident',\n",
       "  'accidental',\n",
       "  'accidentally',\n",
       "  'accompanied',\n",
       "  'accompany',\n",
       "  'accompanying',\n",
       "  'accomplished',\n",
       "  'accomplished!--she',\n",
       "  'accomplishment',\n",
       "  'accomplishments',\n",
       "  'accordance',\n",
       "  'according',\n",
       "  'accordingly',\n",
       "  'accosted',\n",
       "  'account',\n",
       "  'accounted',\n",
       "  'accounting',\n",
       "  'accounts',\n",
       "  'accuracy',\n",
       "  'accurate',\n",
       "  'accusation',\n",
       "  'accusations',\n",
       "  'accuse',\n",
       "  'accused',\n",
       "  'accusing',\n",
       "  'accustomed',\n",
       "  'ached',\n",
       "  'achieving',\n",
       "  'acknowledge',\n",
       "  'acknowledged',\n",
       "  'acknowledging',\n",
       "  'acknowledgment',\n",
       "  'acknowledgments',\n",
       "  'acquaint',\n",
       "  'acquaintance',\n",
       "  'acquaintance.--mr',\n",
       "  'acquainted',\n",
       "  'acquainting',\n",
       "  'acquiesce',\n",
       "  'acquiescence',\n",
       "  'acquiesence',\n",
       "  'acquire',\n",
       "  'acquired',\n",
       "  'acquisition',\n",
       "  'acquit',\n",
       "  'acrimony',\n",
       "  'across',\n",
       "  'act',\n",
       "  'acted',\n",
       "  'acting',\n",
       "  'action',\n",
       "  'actions',\n",
       "  'active',\n",
       "  'activity',\n",
       "  'actual',\n",
       "  'actually',\n",
       "  'actuated',\n",
       "  'acute',\n",
       "  'acutely',\n",
       "  'acutest',\n",
       "  'adapted',\n",
       "  'add',\n",
       "  'added',\n",
       "  'added.--\"whatever',\n",
       "  'adding',\n",
       "  'addition',\n",
       "  'additional',\n",
       "  'additions',\n",
       "  'address',\n",
       "  'addressed',\n",
       "  'addresses',\n",
       "  'addressing',\n",
       "  'adds',\n",
       "  'adept',\n",
       "  'adequate',\n",
       "  'adhered',\n",
       "  'adhering',\n",
       "  'adieu',\n",
       "  'adieus',\n",
       "  'adjusting',\n",
       "  'admirable',\n",
       "  'admiration',\n",
       "  'admire',\n",
       "  'admired',\n",
       "  'admirer',\n",
       "  'admires',\n",
       "  'admiring',\n",
       "  'admission',\n",
       "  'admit',\n",
       "  'admittance',\n",
       "  'admitted',\n",
       "  'admitting',\n",
       "  'adopt',\n",
       "  'adopted',\n",
       "  'adoration',\n",
       "  'adorned',\n",
       "  'advance',\n",
       "  'advanced',\n",
       "  'advancement',\n",
       "  'advances',\n",
       "  'advantage',\n",
       "  'advantageous',\n",
       "  'advantageously',\n",
       "  'advantages',\n",
       "  'adventure',\n",
       "  'advertised',\n",
       "  'advice',\n",
       "  'advisable',\n",
       "  'advise',\n",
       "  'advised',\n",
       "  'advising',\n",
       "  'affability',\n",
       "  'affable',\n",
       "  'affair',\n",
       "  'affairs',\n",
       "  'affect',\n",
       "  'affectation',\n",
       "  'affected',\n",
       "  'affected.--elizabeth',\n",
       "  'affection',\n",
       "  'affectionate',\n",
       "  'affectionately',\n",
       "  'affections',\n",
       "  'affinity',\n",
       "  'affirmative',\n",
       "  'afflicting',\n",
       "  'affliction',\n",
       "  'afford',\n",
       "  'afforded',\n",
       "  'affording',\n",
       "  'affords',\n",
       "  'affront',\n",
       "  'affronted',\n",
       "  'afraid',\n",
       "  'afresh',\n",
       "  'after',\n",
       "  'after;--the',\n",
       "  'afternoon',\n",
       "  'afterwards',\n",
       "  'again',\n",
       "  'again!--she',\n",
       "  'again.--but',\n",
       "  'again?--at',\n",
       "  'against',\n",
       "  'age',\n",
       "  'agent',\n",
       "  'agitated',\n",
       "  'agitating',\n",
       "  'agitation',\n",
       "  'agitations',\n",
       "  'ago',\n",
       "  'agonies',\n",
       "  'agony',\n",
       "  'agree',\n",
       "  'agreeable',\n",
       "  'agreeable,--allowing',\n",
       "  'agreeable-looking',\n",
       "  'agreeably',\n",
       "  'agreed',\n",
       "  'agreeing',\n",
       "  'agreement',\n",
       "  'ah',\n",
       "  'aid',\n",
       "  'aimed',\n",
       "  'air',\n",
       "  'airing',\n",
       "  'airs',\n",
       "  'alacrity',\n",
       "  'alarm',\n",
       "  'alarmed',\n",
       "  'alarming',\n",
       "  'alarms',\n",
       "  'alas',\n",
       "  'alienated',\n",
       "  'alighted',\n",
       "  'alike',\n",
       "  'alive',\n",
       "  'all',\n",
       "  'all!--to',\n",
       "  'all!--what',\n",
       "  'all--and',\n",
       "  'all.--i',\n",
       "  'allayed',\n",
       "  'alleviate',\n",
       "  'alleviated',\n",
       "  'alliance',\n",
       "  'allow',\n",
       "  'allowable',\n",
       "  'allowance',\n",
       "  'allowances',\n",
       "  'allowed',\n",
       "  'allowing',\n",
       "  'allude',\n",
       "  'alluded',\n",
       "  'alluding',\n",
       "  'allurements',\n",
       "  'allusion',\n",
       "  'allusions',\n",
       "  'almost',\n",
       "  'alone',\n",
       "  'along',\n",
       "  'aloof',\n",
       "  'aloud',\n",
       "  'already',\n",
       "  'also',\n",
       "  'altar',\n",
       "  'alter',\n",
       "  'alteration',\n",
       "  'alterations',\n",
       "  'altered',\n",
       "  'altered,--what',\n",
       "  'alternate',\n",
       "  'alternative',\n",
       "  'although',\n",
       "  'altogether',\n",
       "  'always',\n",
       "  'am',\n",
       "  'am--and',\n",
       "  'amaze',\n",
       "  'amazed',\n",
       "  'amazement',\n",
       "  'amazes',\n",
       "  'amazing',\n",
       "  'amazing!--but',\n",
       "  'ambition',\n",
       "  'amendment',\n",
       "  'amends',\n",
       "  'amends,--but',\n",
       "  'amends--of',\n",
       "  'amiable',\n",
       "  'amiable\"--but',\n",
       "  'amid',\n",
       "  'amidst',\n",
       "  'amiss',\n",
       "  'among',\n",
       "  'amongst',\n",
       "  'amount',\n",
       "  'amounting',\n",
       "  'ample',\n",
       "  'amply',\n",
       "  'amuse',\n",
       "  'amused',\n",
       "  'amusement',\n",
       "  'amusements',\n",
       "  'amusing',\n",
       "  'an',\n",
       "  'ancient',\n",
       "  'ancle',\n",
       "  'ancles',\n",
       "  'and',\n",
       "  'anecdote',\n",
       "  'anecdotes',\n",
       "  'anew',\n",
       "  'angel',\n",
       "  'angelic',\n",
       "  'anger',\n",
       "  'angrily',\n",
       "  'angry',\n",
       "  'anguish',\n",
       "  'animal',\n",
       "  'animated',\n",
       "  'animating',\n",
       "  'animation',\n",
       "  'anne',\n",
       "  \"anne's\",\n",
       "  'annesley',\n",
       "  'annexed',\n",
       "  'announce',\n",
       "  'announced',\n",
       "  'annoyed',\n",
       "  'annual',\n",
       "  'annum',\n",
       "  'another',\n",
       "  'answer',\n",
       "  'answer--and',\n",
       "  'answer--but',\n",
       "  'answerable',\n",
       "  'answered',\n",
       "  'answering',\n",
       "  'answers',\n",
       "  'antagonist',\n",
       "  'anti-chamber',\n",
       "  'anticipate',\n",
       "  'anticipated',\n",
       "  'anticipating',\n",
       "  'anticipation',\n",
       "  'anxiety',\n",
       "  'anxious',\n",
       "  'anxiously',\n",
       "  'any',\n",
       "  'anybody',\n",
       "  \"anybody's\",\n",
       "  'anyone',\n",
       "  'anything',\n",
       "  'anywhere',\n",
       "  'apace',\n",
       "  'apartment',\n",
       "  'apartments',\n",
       "  'apologies',\n",
       "  'apologise',\n",
       "  'apologised',\n",
       "  'apologising',\n",
       "  'apologize',\n",
       "  'apologizing',\n",
       "  'apology',\n",
       "  'apothecary',\n",
       "  'apparel',\n",
       "  'apparent',\n",
       "  'apparently',\n",
       "  'appeal',\n",
       "  'appeals',\n",
       "  'appear',\n",
       "  'appearance',\n",
       "  'appearances',\n",
       "  'appeared',\n",
       "  'appearing',\n",
       "  'appears',\n",
       "  'appease',\n",
       "  'appeased',\n",
       "  'appertain',\n",
       "  'appetite',\n",
       "  'applicable',\n",
       "  'application',\n",
       "  'applied',\n",
       "  'applies',\n",
       "  'apply',\n",
       "  'applying',\n",
       "  'appointed',\n",
       "  'appointment',\n",
       "  'apprehended',\n",
       "  'apprehending',\n",
       "  'apprehension',\n",
       "  'apprehensions',\n",
       "  'apprehensive',\n",
       "  'approach',\n",
       "  'approached',\n",
       "  'approaching',\n",
       "  'approbation',\n",
       "  'approve',\n",
       "  'approved',\n",
       "  'april',\n",
       "  'apt',\n",
       "  'arch',\n",
       "  'archbishop',\n",
       "  'archive',\n",
       "  'archly',\n",
       "  'archness',\n",
       "  'ardent',\n",
       "  'ardently',\n",
       "  'are',\n",
       "  'are.\"--and',\n",
       "  'are.--you',\n",
       "  'argued',\n",
       "  'arguing',\n",
       "  'argument',\n",
       "  'arguments',\n",
       "  'arise',\n",
       "  'arisen',\n",
       "  'arising',\n",
       "  'arm',\n",
       "  'army',\n",
       "  'arose',\n",
       "  'around',\n",
       "  'arrange',\n",
       "  'arranged',\n",
       "  'arrangement',\n",
       "  'arrangements',\n",
       "  'arranges',\n",
       "  'arranging',\n",
       "  'array',\n",
       "  'arrear',\n",
       "  'arrested',\n",
       "  'arrival',\n",
       "  'arrive',\n",
       "  'arrived',\n",
       "  'arriving',\n",
       "  'arrogance',\n",
       "  'arrogant',\n",
       "  'art',\n",
       "  'artful',\n",
       "  'artfully',\n",
       "  'article',\n",
       "  'articles',\n",
       "  'artificial',\n",
       "  'arts',\n",
       "  'as',\n",
       "  'ascended',\n",
       "  'ascertain',\n",
       "  'ascertaining',\n",
       "  'ascii',\n",
       "  'ashamed',\n",
       "  'ashworth',\n",
       "  'aside',\n",
       "  'ask',\n",
       "  'asked',\n",
       "  'asking',\n",
       "  'asleep',\n",
       "  'aspect',\n",
       "  'asperity',\n",
       "  'aspire',\n",
       "  'assembled',\n",
       "  'assemblee',\n",
       "  'assemblies',\n",
       "  'assembly',\n",
       "  'assembly!--i',\n",
       "  'assent',\n",
       "  'assented',\n",
       "  'assents',\n",
       "  'assert',\n",
       "  'asserted',\n",
       "  'asserting',\n",
       "  'assertion',\n",
       "  'assertions',\n",
       "  'assiduous',\n",
       "  'assiduously',\n",
       "  'assist',\n",
       "  'assistance',\n",
       "  'assistant',\n",
       "  'assisted',\n",
       "  'assisting',\n",
       "  'associated',\n",
       "  'associating',\n",
       "  'assume',\n",
       "  'assumed',\n",
       "  'assurance',\n",
       "  'assurances',\n",
       "  'assure',\n",
       "  'assured',\n",
       "  'assuring',\n",
       "  'astonish',\n",
       "  'astonish--and',\n",
       "  'astonished',\n",
       "  'astonishment',\n",
       "  'at',\n",
       "  'ate',\n",
       "  'atone',\n",
       "  'atoned',\n",
       "  'atonement',\n",
       "  'atonement--for',\n",
       "  'attach',\n",
       "  'attached',\n",
       "  'attachment',\n",
       "  'attachment.--i',\n",
       "  'attachment;--and',\n",
       "  'attachments',\n",
       "  'attack',\n",
       "  'attacked',\n",
       "  'attacks',\n",
       "  'attained',\n",
       "  'attempt',\n",
       "  'attempted',\n",
       "  'attempting',\n",
       "  'attend',\n",
       "  'attendance',\n",
       "  'attendant',\n",
       "  'attendants',\n",
       "  'attended',\n",
       "  'attending',\n",
       "  'attention',\n",
       "  'attentions',\n",
       "  'attentive',\n",
       "  'attentively',\n",
       "  'attics',\n",
       "  'attitude',\n",
       "  'attorney',\n",
       "  'attracted',\n",
       "  'attraction',\n",
       "  'attractions',\n",
       "  'attribute',\n",
       "  'attributed',\n",
       "  'attributing',\n",
       "  'audible',\n",
       "  'audience',\n",
       "  'augment',\n",
       "  'augmented',\n",
       "  'august',\n",
       "  'aunt',\n",
       "  \"aunt's\",\n",
       "  'aunt.--but',\n",
       "  'aunts',\n",
       "  'austen',\n",
       "  'austerity',\n",
       "  'author',\n",
       "  'authorise',\n",
       "  'authorised',\n",
       "  'authoritative',\n",
       "  'authority',\n",
       "  'authorizing',\n",
       "  'avail',\n",
       "  'available',\n",
       "  'availed',\n",
       "  'avarice',\n",
       "  'avenue',\n",
       "  'avoid',\n",
       "  'avoidance',\n",
       "  'avoided',\n",
       "  'avoiding',\n",
       "  'avowal',\n",
       "  'avowed',\n",
       "  'awaited',\n",
       "  'awake',\n",
       "  'awakened',\n",
       "  'aware',\n",
       "  'away',\n",
       "  'away—you',\n",
       "  'awe',\n",
       "  'awed',\n",
       "  'aweful',\n",
       "  'awful',\n",
       "  'awkward',\n",
       "  'awkwardness',\n",
       "  'awoke',\n",
       "  'aye',\n",
       "  'aye--because',\n",
       "  'aye--that',\n",
       "  'b',\n",
       "  'back',\n",
       "  'backed',\n",
       "  'backgammon',\n",
       "  'backward',\n",
       "  'backwards',\n",
       "  'bad',\n",
       "  'bad--belongs',\n",
       "  'bakewell',\n",
       "  'ball',\n",
       "  'ball--and',\n",
       "  'ball-room',\n",
       "  'balls',\n",
       "  'balm',\n",
       "  'bandbox',\n",
       "  'banish',\n",
       "  'banished',\n",
       "  'banks',\n",
       "  'barbarous',\n",
       "  'barbarously',\n",
       "  'bare',\n",
       "  'barefaced',\n",
       "  'barely',\n",
       "  'barnet',\n",
       "  'barouche',\n",
       "  'based',\n",
       "  'bashful',\n",
       "  'basis',\n",
       "  'bass',\n",
       "  'bath',\n",
       "  'bathing',\n",
       "  'battled',\n",
       "  'be',\n",
       "  'be!--engaged',\n",
       "  'be--but',\n",
       "  'be--i',\n",
       "  'be?--how',\n",
       "  'bear',\n",
       "  'bearing',\n",
       "  'bears',\n",
       "  'beatings',\n",
       "  'beauteous',\n",
       "  'beauties',\n",
       "  'beautiful',\n",
       "  'beautiful,--and',\n",
       "  'beauty',\n",
       "  'beauty!--i',\n",
       "  'beaux',\n",
       "  'became',\n",
       "  'because',\n",
       "  'become',\n",
       "  'becomes',\n",
       "  'becoming',\n",
       "  'bed',\n",
       "  'bed-rooms',\n",
       "  'bedford',\n",
       "  'been',\n",
       "  'been.--neither',\n",
       "  'befal',\n",
       "  'befall',\n",
       "  'before',\n",
       "  'before-hand',\n",
       "  'before.--at',\n",
       "  'befriended',\n",
       "  'beg',\n",
       "  'began',\n",
       "  'begged',\n",
       "  'begging',\n",
       "  'begin',\n",
       "  'beginning',\n",
       "  'begins',\n",
       "  'begins--but',\n",
       "  'begs',\n",
       "  'begun',\n",
       "  'behalf',\n",
       "  'behave',\n",
       "  'behaved',\n",
       "  'behaves',\n",
       "  'behaviour',\n",
       "  'beheld',\n",
       "  'behind',\n",
       "  'beholding',\n",
       "  'being',\n",
       "  'belief',\n",
       "  'believe',\n",
       "  'believed',\n",
       "  'believes',\n",
       "  'believing',\n",
       "  'bell',\n",
       "  'belle',\n",
       "  'belong',\n",
       "  'belonged',\n",
       "  'belonging',\n",
       "  'belongs',\n",
       "  'beloved',\n",
       "  'below',\n",
       "  'benches',\n",
       "  'beneath',\n",
       "  'beneficence',\n",
       "  'beneficial',\n",
       "  'benefit',\n",
       "  'benefited',\n",
       "  'benefiting',\n",
       "  'benefits',\n",
       "  'benevolence',\n",
       "  'benevolent',\n",
       "  'bennet',\n",
       "  \"bennet's\",\n",
       "  'bennet.\"--my',\n",
       "  'bennet.--they',\n",
       "  'bennet;--she',\n",
       "  'bennets',\n",
       "  'bent',\n",
       "  'bequeathed',\n",
       "  'bequest',\n",
       "  'beside',\n",
       "  'besides',\n",
       "  'best',\n",
       "  'best.--on',\n",
       "  'bestow',\n",
       "  'bestow!--how',\n",
       "  'bestowed',\n",
       "  'bestowing',\n",
       "  'betray',\n",
       "  'betrayed',\n",
       "  'bets',\n",
       "  'better',\n",
       "  'between',\n",
       "  'bewailed',\n",
       "  'bewildered',\n",
       "  'bewitched',\n",
       "  'bewitching',\n",
       "  'beyond',\n",
       "  'bid',\n",
       "  'bidding',\n",
       "  'billiard',\n",
       "  'bills',\n",
       "  'binary',\n",
       "  'bingley',\n",
       "  \"bingley's\",\n",
       "  'bingley--is',\n",
       "  'bingley.--but--good',\n",
       "  'bingley.--it',\n",
       "  'bingley;--\"and',\n",
       "  'bingleys',\n",
       "  'birds',\n",
       "  'birmingham',\n",
       "  'birth',\n",
       "  'bit',\n",
       "  'biting',\n",
       "  'bitter',\n",
       "  'bitterest',\n",
       "  'bitterly',\n",
       "  'bitterness',\n",
       "  'black',\n",
       "  'blacken',\n",
       "  'blame',\n",
       "  'blameable',\n",
       "  'blamed',\n",
       "  'blameless',\n",
       "  'blamelessness',\n",
       "  'blaming',\n",
       "  'blasted',\n",
       "  'blemish',\n",
       "  'blenheim',\n",
       "  'bless',\n",
       "  'blessed',\n",
       "  'blessing',\n",
       "  'blind',\n",
       "  'blinded',\n",
       "  'blinds',\n",
       "  'blots',\n",
       "  'blow',\n",
       "  'blown',\n",
       "  'blowsy',\n",
       "  'blue',\n",
       "  'blush',\n",
       "  'blushed',\n",
       "  'blushing',\n",
       "  'board',\n",
       "  'boast',\n",
       "  'boast;--for',\n",
       "  'boasted',\n",
       "  'boasting',\n",
       "  'bodies',\n",
       "  'body',\n",
       "  'body!--if',\n",
       "  \"body's\",\n",
       "  'body--would',\n",
       "  'body.--_that',\n",
       "  'boisterously',\n",
       "  'bold',\n",
       "  'boldly',\n",
       "  'bonnet',\n",
       "  'book',\n",
       "  'book!--when',\n",
       "  'books',\n",
       "  'books--oh',\n",
       "  'books.--what',\n",
       "  'bordered',\n",
       "  'bordering',\n",
       "  'bore',\n",
       "  'born',\n",
       "  'borne',\n",
       "  'borrow',\n",
       "  'borrowed',\n",
       "  'bosom',\n",
       "  'bosoms',\n",
       "  'both',\n",
       "  'both.--i',\n",
       "  'bottle',\n",
       "  'bottom',\n",
       "  'bought',\n",
       "  'boulanger',\n",
       "  'bound',\n",
       "  'boundary',\n",
       "  'boundless',\n",
       "  'bounds',\n",
       "  'bounty',\n",
       "  'bourgh',\n",
       "  \"bourgh's\",\n",
       "  'bourgh--the',\n",
       "  'bourgh.\"--it',\n",
       "  'bourne',\n",
       "  'bow',\n",
       "  'bowed',\n",
       "  'bowing',\n",
       "  'bowl',\n",
       "  'bows',\n",
       "  'box',\n",
       "  'boxes',\n",
       "  'boy',\n",
       "  'boys',\n",
       "  'bracelets',\n",
       "  'brackets',\n",
       "  'brain',\n",
       "  'brains',\n",
       "  'branch',\n",
       "  'breach',\n",
       "  'break',\n",
       "  'breakfast',\n",
       "  'breakfast-parlour',\n",
       "  'breakfast-room',\n",
       "  'breakfasted',\n",
       "  'breaking',\n",
       "  'breast',\n",
       "  'breath',\n",
       "  'breathed',\n",
       "  'breathing',\n",
       "  'breathless',\n",
       "  'bred',\n",
       "  'breeding',\n",
       "  'brevity',\n",
       "  'bribe',\n",
       "  'bribery',\n",
       "  'bride',\n",
       "  'bridegroom',\n",
       "  'bridge',\n",
       "  'briefly',\n",
       "  'briefly.--the',\n",
       "  'bright',\n",
       "  'brightened',\n",
       "  'brightening',\n",
       "  'brightest',\n",
       "  'brighton',\n",
       "  'brighton!--i',\n",
       "  'brilliancy',\n",
       "  'bring',\n",
       "  'bringing',\n",
       "  'brings',\n",
       "  'brink',\n",
       "  'britain',\n",
       "  'british',\n",
       "  'brittle',\n",
       "  'broad-faced',\n",
       "  'broke',\n",
       "  'broken',\n",
       "  'bromley',\n",
       "  'brooking',\n",
       "  'brother',\n",
       "  'brother!--i',\n",
       "  \"brother's\",\n",
       "  'brother,--very',\n",
       "  'brother--\"because',\n",
       "  'brother-in-law',\n",
       "  \"brother-in-law's\",\n",
       "  'brotherly',\n",
       "  'brothers',\n",
       "  'brought',\n",
       "  'brow',\n",
       "  'brown',\n",
       "  'build',\n",
       "  'building',\n",
       "  'built',\n",
       "  'burning',\n",
       "  'burnt',\n",
       "  'burst',\n",
       "  'burying',\n",
       "  'busily',\n",
       "  'business',\n",
       "  'business?--do',\n",
       "  'bustle',\n",
       "  'busy',\n",
       "  'but',\n",
       "  \"butcher's\",\n",
       "  'butler',\n",
       "  'buy',\n",
       "  'buying',\n",
       "  'by',\n",
       "  'bye',\n",
       "  'c',\n",
       "  'cake',\n",
       "  'calculate',\n",
       "  'calculated',\n",
       "  'calculation',\n",
       "  'calico',\n",
       "  'call',\n",
       "  'called',\n",
       "  'calling',\n",
       "  'calls',\n",
       "  'calm',\n",
       "  \"calm.--elizabeth's\",\n",
       "  'calmly',\n",
       "  'calmness',\n",
       "  'cambric',\n",
       "  'cambridge;--most',\n",
       "  'came',\n",
       "  'came!--and',\n",
       "  'camp',\n",
       "  'camp;--and',\n",
       "  'campful',\n",
       "  'can',\n",
       "  \"can't\",\n",
       "  'can,--or',\n",
       "  'can.--but',\n",
       "  'can.--daughters',\n",
       "  'candid',\n",
       "  'candour',\n",
       "  'cannot',\n",
       "  'cannot--i',\n",
       "  'cannot.--he',\n",
       "  'canvas',\n",
       "  'canvassed',\n",
       "  'cap',\n",
       "  'capable',\n",
       "  'capacity',\n",
       "  'capers',\n",
       "  'capital',\n",
       "  'caprice',\n",
       "  'captain',\n",
       "  'captivate',\n",
       "  'captivated',\n",
       "  'captivating',\n",
       "  'captivation',\n",
       "  'carat',\n",
       "  'card',\n",
       "  'card-table',\n",
       "  'card-table--but',\n",
       "  'cards',\n",
       "  'care',\n",
       "  'cared',\n",
       "  'careful',\n",
       "  'carefully',\n",
       "  'careless',\n",
       "  'carelessness',\n",
       "  'cares',\n",
       "  'caring',\n",
       "  'caroline',\n",
       "  \"caroline's\",\n",
       "  'carpets',\n",
       "  'carriage',\n",
       "  'carriages',\n",
       "  'carried',\n",
       "  'carry',\n",
       "  'carrying',\n",
       "  'carter',\n",
       "  'carved',\n",
       "  'case',\n",
       "  'cases',\n",
       "  ...],\n",
       " 7377)"
      ]
     },
     "execution_count": 162,
     "metadata": {},
     "output_type": "execute_result"
    }
   ],
   "source": [
    "word_list, len(word_list)"
   ]
  },
  {
   "cell_type": "code",
   "execution_count": 163,
   "metadata": {},
   "outputs": [],
   "source": [
    "word2index_dict = {word: i for (i, word) in enumerate(word_list)}"
   ]
  },
  {
   "cell_type": "code",
   "execution_count": 164,
   "metadata": {},
   "outputs": [
    {
     "data": {
      "text/plain": [
       "(7377, 3389)"
      ]
     },
     "execution_count": 164,
     "metadata": {},
     "output_type": "execute_result"
    }
   ],
   "source": [
    "len(word2index_dict), word2index_dict['impossible']"
   ]
  },
  {
   "cell_type": "code",
   "execution_count": 170,
   "metadata": {},
   "outputs": [
    {
     "name": "stdout",
     "output_type": "stream",
     "text": [
      " 0 2542 fancied\n",
      " 1 3187 herself\n",
      " 2 4392 nervous\n",
      " 3 6535 the\n",
      " 4  920 business\n",
      " 5 4534 of\n",
      " 6 3166 her\n",
      " 7 3924 life\n",
      " 8 7084 was\n",
      " 9 6615 to\n",
      "10 2891 get\n",
      "11 3166 her\n",
      "torch.Size([12, 7377])\n"
     ]
    }
   ],
   "source": [
    "word_t = torch.zeros(len(words_in_line), len(word2index_dict))\n",
    "for i, word in enumerate(words_in_line): \n",
    "    word_index = word2index_dict[word]\n",
    "    word_t[i][word_index] = 1\n",
    "    print('{:2} {:4} {}'.format(i, word_index, word))\n",
    "\n",
    "print(word_t.shape)"
   ]
  },
  {
   "cell_type": "code",
   "execution_count": 168,
   "metadata": {},
   "outputs": [
    {
     "data": {
      "text/plain": [
       "tensor([[0., 0., 0.,  ..., 0., 0., 0.],\n",
       "        [0., 0., 0.,  ..., 0., 0., 0.],\n",
       "        [0., 0., 0.,  ..., 0., 0., 0.],\n",
       "        ...,\n",
       "        [0., 0., 0.,  ..., 0., 0., 0.],\n",
       "        [0., 0., 0.,  ..., 0., 0., 0.],\n",
       "        [0., 0., 0.,  ..., 0., 0., 0.]])"
      ]
     },
     "execution_count": 168,
     "metadata": {},
     "output_type": "execute_result"
    }
   ],
   "source": []
  },
  {
   "cell_type": "code",
   "execution_count": null,
   "metadata": {},
   "outputs": [],
   "source": []
  }
 ],
 "metadata": {
  "kernelspec": {
   "display_name": "ML",
   "language": "python",
   "name": "ml"
  },
  "language_info": {
   "codemirror_mode": {
    "name": "ipython",
    "version": 3
   },
   "file_extension": ".py",
   "mimetype": "text/x-python",
   "name": "python",
   "nbconvert_exporter": "python",
   "pygments_lexer": "ipython3",
   "version": "3.11.8"
  }
 },
 "nbformat": 4,
 "nbformat_minor": 2
}
