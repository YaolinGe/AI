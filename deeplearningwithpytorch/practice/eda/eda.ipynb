{
 "cells": [
  {
   "cell_type": "code",
   "execution_count": 1,
   "metadata": {},
   "outputs": [],
   "source": [
    "import numpy as np \n",
    "import pandas as pd \n",
    "import matplotlib.pyplot as plt \n",
    "import plotly \n",
    "import os \n",
    "\n",
    "folder_path = r\"C:\\Users\\nq9093\\Downloads\\CutFilesToYaolin\\CutFilesToYaolin\"\n",
    "files = os.listdir(folder_path)"
   ]
  },
  {
   "cell_type": "code",
   "execution_count": 7,
   "metadata": {},
   "outputs": [],
   "source": [
    "filenames = []\n",
    "for file in files: \n",
    "    if file.endswith(\".cut\"): \n",
    "        filenames.append(file[:-4])\n",
    "        # print(file[:-4])\n"
   ]
  },
  {
   "cell_type": "code",
   "execution_count": 8,
   "metadata": {},
   "outputs": [
    {
     "name": "stdout",
     "output_type": "stream",
     "text": [
      "['SilentTools_00410_20211130-143236', 'SilentTools_00411_20211130-144617', 'SilentTools_00412_20211201-144424', 'SilentTools_00413_20211206-144227', 'SilentTools_00414_20211206-145700', 'SilentTools_00417_20211209-143804', 'SilentTools_00418_20211209-145952']\n"
     ]
    }
   ],
   "source": []
  }
 ],
 "metadata": {
  "kernelspec": {
   "display_name": "ML",
   "language": "python",
   "name": "ml"
  },
  "language_info": {
   "codemirror_mode": {
    "name": "ipython",
    "version": 3
   },
   "file_extension": ".py",
   "mimetype": "text/x-python",
   "name": "python",
   "nbconvert_exporter": "python",
   "pygments_lexer": "ipython3",
   "version": "3.11.8"
  }
 },
 "nbformat": 4,
 "nbformat_minor": 2
}
