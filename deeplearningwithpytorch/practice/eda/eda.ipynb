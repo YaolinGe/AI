{
 "cells": [
  {
   "cell_type": "code",
   "execution_count": 110,
   "metadata": {},
   "outputs": [],
   "source": [
    "import numpy as np \n",
    "import pandas as pd \n",
    "import matplotlib.pyplot as plt \n",
    "from plotly.subplots import make_subplots\n",
    "import plotly.graph_objects as go \n",
    "import os \n",
    "from sklearn.preprocessing import MinMaxScaler\n",
    "from tqdm import tqdm\n",
    "from usr_func import read_file, synchronize_data, make_subplot_data, preprocess_data\n",
    "from model.LSTMAutoEncoder import LSTMAutoEncoder\n",
    "\n",
    "%reload_ext autoreload\n",
    "%autoreload 2\n",
    "\n",
    "folder_path = r\"C:\\Users\\nq9093\\Downloads\\CutFilesToYaolin\\CutFilesToYaolin\"\n",
    "files = os.listdir(folder_path)\n",
    "figpath = os.path.join(os.getcwd(), 'fig')\n",
    "if not os.path.exists(figpath):\n",
    "    os.makedirs(figpath)"
   ]
  },
  {
   "cell_type": "code",
   "execution_count": 97,
   "metadata": {},
   "outputs": [
    {
     "name": "stderr",
     "output_type": "stream",
     "text": [
      "100%|██████████| 7/7 [01:04<00:00,  9.18s/it]\n"
     ]
    }
   ],
   "source": [
    "filenames = []\n",
    "for file in files: \n",
    "    if file.endswith(\".cut\"): \n",
    "        filenames.append(file[:-4])\n",
    "        file = filenames[0]\n",
    "\n",
    "# for file in tqdm(filenames): \n",
    "#     filepath = os.path.join(folder_path, file)\n",
    "#     df_accelerometer, df_strain0, df_strain1 = read_file(filepath)\n",
    "#     df_sync = synchronize_data(df_accelerometer, df_strain0, df_strain1)\n",
    "#     fig = make_subplot_data(df_sync, filepath, figpath, show=False, save=True)\n"
   ]
  },
  {
   "cell_type": "code",
   "execution_count": 131,
   "metadata": {},
   "outputs": [],
   "source": [
    "file = filenames[0]\n",
    "filepath = os.path.join(folder_path, file)\n",
    "df_accelerometer, df_strain0, df_strain1 = read_file(filepath)\n",
    "df_sync = synchronize_data(df_accelerometer, df_strain0, df_strain1)\n",
    "fig = make_subplot_data(df_sync, filepath, figpath, show=False, save=True)"
   ]
  },
  {
   "cell_type": "code",
   "execution_count": 132,
   "metadata": {},
   "outputs": [],
   "source": [
    "t_start = 8\n",
    "t_end = 18\n",
    "df_selected = df_sync[(df_sync.iloc[:, 0] >= t_start) & (df_sync.iloc[:, 0] <= t_end)]\n",
    "df_scaled = preprocess_data(df_selected)\n",
    "\n",
    "train_size = .8\n",
    "val_size = .1\n",
    "test_size = .1\n",
    "df_train = df_scaled.iloc[:int(len(df_scaled)*train_size)]\n",
    "df_val = df_scaled.iloc[int(len(df_scaled)*train_size):int(len(df_scaled)*(train_size+val_size))]\n",
    "df_test = df_scaled.iloc[int(len(df_scaled)*(train_size+val_size)):]"
   ]
  },
  {
   "cell_type": "code",
   "execution_count": 135,
   "metadata": {},
   "outputs": [],
   "source": [
    "# make_subplot_data(df_train, filepath, figpath, show=True, save=False)\n",
    "# make_subplot_data(df_val, filepath, figpath, show=True, save=False)\n",
    "# make_subplot_data(df_test, filepath, figpath, show=True, save=False)"
   ]
  },
  {
   "cell_type": "code",
   "execution_count": null,
   "metadata": {},
   "outputs": [],
   "source": []
  },
  {
   "cell_type": "code",
   "execution_count": null,
   "metadata": {},
   "outputs": [],
   "source": []
  }
 ],
 "metadata": {
  "kernelspec": {
   "display_name": "ML",
   "language": "python",
   "name": "ml"
  },
  "language_info": {
   "codemirror_mode": {
    "name": "ipython",
    "version": 3
   },
   "file_extension": ".py",
   "mimetype": "text/x-python",
   "name": "python",
   "nbconvert_exporter": "python",
   "pygments_lexer": "ipython3",
   "version": "3.11.8"
  }
 },
 "nbformat": 4,
 "nbformat_minor": 2
}
