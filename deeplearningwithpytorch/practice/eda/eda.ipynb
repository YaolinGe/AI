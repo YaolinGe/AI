{
 "cells": [
  {
   "cell_type": "code",
   "execution_count": 1,
   "metadata": {},
   "outputs": [],
   "source": [
    "import numpy as np \n",
    "import pandas as pd \n",
    "import matplotlib.pyplot as plt \n",
    "import plotly \n",
    "import os \n",
    "\n",
    "folder_path = r\"C:\\Users\\nq9093\\Downloads\\CutFilesToYaolin\\CutFilesToYaolin\"\n",
    "files = os.listdir(folder_path)"
   ]
  },
  {
   "cell_type": "code",
   "execution_count": 2,
   "metadata": {},
   "outputs": [],
   "source": [
    "filenames = []\n",
    "for file in files: \n",
    "    if file.endswith(\".cut\"): \n",
    "        filenames.append(file[:-4])"
   ]
  },
  {
   "cell_type": "code",
   "execution_count": 31,
   "metadata": {},
   "outputs": [],
   "source": [
    "file = filenames[0]\n",
    "filepath = os.path.join(folder_path, file)\n",
    "\n",
    "def reconstruct_strain(df_strain): \n",
    "    strain0 = []\n",
    "    strain1 = []\n",
    "    ind_0 = np.where(df_strain.iloc[:, 1] == 0)[0]\n",
    "    ind_1 = np.where(df_strain.iloc[:, 1] == 1)[0]\n",
    "    data_0 = df_strain.iloc[ind_0, :]\n",
    "    data_1 = df_strain.iloc[ind_1, :]\n",
    "    N_cols = data_0.shape[1] - 2\n",
    "    dt_0 = np.diff(data_0.iloc[:, 0]) / N_cols\n",
    "    dt_1 = np.diff(data_1.iloc[:, 0]) / N_cols\n",
    "    dt_0 = np.append(dt_0, dt_0[-1])\n",
    "    dt_1 = np.append(dt_1, dt_1[-1])\n",
    "    for i in range(len(data_0)): \n",
    "        for j in range(data_0.shape[1] - 2): \n",
    "            strain0.append([data_0.iloc[i, 0] + j*dt_0[i], data_0.iloc[i, j+2]])\n",
    "    for i in range(len(data_1)):\n",
    "        for j in range(data_1.shape[1] - 2): \n",
    "            strain1.append([data_1.iloc[i, 0] + j*dt_1[i], data_1.iloc[i, j+2]])\n",
    "    strain0 = pd.DataFrame(strain0, columns=['timestamp', 'value'])\n",
    "    strain1 = pd.DataFrame(strain1, columns=['timestamp', 'value'])\n",
    "    strain0['timestamp'] = strain0['timestamp'] - strain0['timestamp'].iloc[0]\n",
    "    strain1['timestamp'] = strain1['timestamp'] - strain1['timestamp'].iloc[0]\n",
    "    strain0['timestamp'] = strain0['timestamp'] / 1000\n",
    "    strain1['timestamp'] = strain1['timestamp'] / 1000\n",
    "    return strain0, strain1\n",
    "\n",
    "def read_file(filepath): \n",
    "    df_accelerometer = pd.read_csv(filepath + \"_box1.csv\", header=None, sep=\";\", names=['timestamp', 'x2g', 'y2g', 'z2g', 'x50g', 'y50g'])\n",
    "    df_accelerometer['timestamp'] = (df_accelerometer['timestamp'] - df_accelerometer['timestamp'][0]) / 1000\n",
    "    df_strain = pd.read_csv(filepath + \"_box2.csv\", header=None, sep=\";\")\n",
    "    df_strain0, df_strain1 = reconstruct_strain(df_strain)\n",
    "    return df_accelerometer, df_strain0, df_strain1\n",
    "\n",
    "df_accelerometer, df_strain0, df_strain1 = read_file(filepath)"
   ]
  },
  {
   "cell_type": "code",
   "execution_count": null,
   "metadata": {},
   "outputs": [],
   "source": []
  }
 ],
 "metadata": {
  "kernelspec": {
   "display_name": "ML",
   "language": "python",
   "name": "ml"
  },
  "language_info": {
   "codemirror_mode": {
    "name": "ipython",
    "version": 3
   },
   "file_extension": ".py",
   "mimetype": "text/x-python",
   "name": "python",
   "nbconvert_exporter": "python",
   "pygments_lexer": "ipython3",
   "version": "3.11.8"
  }
 },
 "nbformat": 4,
 "nbformat_minor": 2
}
