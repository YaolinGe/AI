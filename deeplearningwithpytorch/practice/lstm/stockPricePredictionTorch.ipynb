{
 "cells": [
  {
   "cell_type": "code",
   "execution_count": 1,
   "metadata": {},
   "outputs": [],
   "source": [
    "import numpy as np\n",
    "import pandas as pd\n",
    "import matplotlib.pyplot as plt\n",
    "import seaborn as sns\n",
    "import torch \n",
    "import torch.nn as nn\n",
    "import torch.optim as optim\n",
    "from torch.utils.data import DataLoader, Dataset, TensorDataset"
   ]
  },
  {
   "cell_type": "code",
   "execution_count": 2,
   "metadata": {},
   "outputs": [
    {
     "data": {
      "text/plain": [
       "[<matplotlib.lines.Line2D at 0x21c52ee4ed0>]"
      ]
     },
     "execution_count": 2,
     "metadata": {},
     "output_type": "execute_result"
    },
    {
     "data": {
      "image/png": "[encoded data removed]",
      "text/plain": [
       "<Figure size 640x480 with 1 Axes>"
      ]
     },
     "metadata": {},
     "output_type": "display_data"
    }
   ],
   "source": [
    "df = pd.read_csv('DIS.csv')\n",
    "dataset = df['Close'].values.reshape(-1,1)\n",
    "dataset = dataset.astype('float32')\n",
    "plt.plot(dataset)"
   ]
  },
  {
   "cell_type": "code",
   "execution_count": 3,
   "metadata": {},
   "outputs": [
    {
     "name": "stdout",
     "output_type": "stream",
     "text": [
      "6808 6809\n"
     ]
    }
   ],
   "source": [
    "train_size = int(len(dataset) * 0.5)\n",
    "test_size = len(dataset) - train_size\n",
    "train, test = dataset[0:train_size,:], dataset[train_size:len(dataset),:]\n",
    "print(len(train), len(test))"
   ]
  },
  {
   "cell_type": "code",
   "execution_count": 6,
   "metadata": {},
   "outputs": [],
   "source": [
    "device = torch.device('cuda' if torch.cuda.is_available() else 'cpu')\n",
    "\n",
    "def create_dataset(dataset, lookback): \n",
    "    X, y = [], []\n",
    "    for i in range(len(dataset) - lookback): \n",
    "        feature = dataset[i:i+lookback]\n",
    "        # target = dataset[i+1:i+lookback+1]\n",
    "        target = dataset[i+lookback]\n",
    "        X.append(feature)\n",
    "        y.append(target)\n",
    "    return torch.tensor(X).float().to(device), torch.tensor(y).float().to(device)"
   ]
  },
  {
   "cell_type": "code",
   "execution_count": 16,
   "metadata": {},
   "outputs": [
    {
     "ename": "ValueError",
     "evalue": "only one element tensors can be converted to Python scalars",
     "output_type": "error",
     "traceback": [
      "\u001b[1;31m---------------------------------------------------------------------------\u001b[0m",
      "\u001b[1;31mValueError\u001b[0m                                Traceback (most recent call last)",
      "Cell \u001b[1;32mIn[16], line 2\u001b[0m\n\u001b[0;32m      1\u001b[0m lookback \u001b[38;5;241m=\u001b[39m \u001b[38;5;241m240\u001b[39m\n\u001b[1;32m----> 2\u001b[0m X_train, y_train \u001b[38;5;241m=\u001b[39m create_dataset(train, lookback)\n\u001b[0;32m      3\u001b[0m X_test, y_test \u001b[38;5;241m=\u001b[39m create_dataset(test, lookback)\n\u001b[0;32m      4\u001b[0m \u001b[38;5;28mprint\u001b[39m(X_train\u001b[38;5;241m.\u001b[39mshape, y_train\u001b[38;5;241m.\u001b[39mshape, X_test\u001b[38;5;241m.\u001b[39mshape, y_test\u001b[38;5;241m.\u001b[39mshape)\n",
      "Cell \u001b[1;32mIn[6], line 11\u001b[0m, in \u001b[0;36mcreate_dataset\u001b[1;34m(dataset, lookback)\u001b[0m\n\u001b[0;32m      9\u001b[0m     X\u001b[38;5;241m.\u001b[39mappend(feature)\n\u001b[0;32m     10\u001b[0m     y\u001b[38;5;241m.\u001b[39mappend(target)\n\u001b[1;32m---> 11\u001b[0m \u001b[38;5;28;01mreturn\u001b[39;00m torch\u001b[38;5;241m.\u001b[39mtensor(X)\u001b[38;5;241m.\u001b[39mfloat()\u001b[38;5;241m.\u001b[39mto(device), torch\u001b[38;5;241m.\u001b[39mtensor(y)\u001b[38;5;241m.\u001b[39mfloat()\u001b[38;5;241m.\u001b[39mto(device)\n",
      "\u001b[1;31mValueError\u001b[0m: only one element tensors can be converted to Python scalars"
     ]
    }
   ],
   "source": [
    "lookback = 240\n",
    "X_train, y_train = create_dataset(train, lookback)\n",
    "X_test, y_test = create_dataset(test, lookback)\n",
    "print(X_train.shape, y_train.shape, X_test.shape, y_test.shape)\n",
    "\n",
    "train = TensorDataset(X_train, y_train)\n",
    "train_loader = DataLoader(train, batch_size=32, shuffle=True)\n",
    "test = TensorDataset(X_test, y_test)\n",
    "test_loader = DataLoader(test, batch_size=32, shuffle=False)"
   ]
  },
  {
   "cell_type": "code",
   "execution_count": 53,
   "metadata": {},
   "outputs": [],
   "source": [
    "# for i in range(3): \n",
    "#     plt.figure()\n",
    "#     plt.plot(timeseries[:10])\n",
    "#     plt.plot(range(i, i+lookback), X_train[i].numpy(), 'ro')\n",
    "#     plt.plot(range(i+1, i+lookback+1), y_train[i].numpy(), 'bx')\n",
    "#     plt.show()"
   ]
  },
  {
   "cell_type": "code",
   "execution_count": 8,
   "metadata": {},
   "outputs": [],
   "source": [
    "class LSTMModel(nn.Module): \n",
    "    def __init__(self): \n",
    "        super().__init__()\n",
    "        self.lstm = nn.LSTM(1, 200, batch_first=True)\n",
    "        self.linear = nn.Linear(200, 1)\n",
    "\n",
    "    def forward(self, x): \n",
    "        x, _ = self.lstm(x)\n",
    "        x = self.linear(x[:, -1, :])\n",
    "        return x\n"
   ]
  },
  {
   "cell_type": "code",
   "execution_count": 75,
   "metadata": {},
   "outputs": [
    {
     "name": "stdout",
     "output_type": "stream",
     "text": [
      "torch.Size([32, 240, 200]) torch.Size([1, 32, 200]) torch.Size([1, 32, 200]) torch.Size([32, 1])\n"
     ]
    }
   ],
   "source": [
    "lstm = nn.LSTM(1, 200, batch_first=True)\n",
    "fc = nn.Linear(200, 1)\n",
    "\n",
    "input = torch.randn(32, 240, 1)\n",
    "\n",
    "out, (h, c) = lstm(input)\n",
    "out2 = fc(out[:, -1, :])\n",
    "print(out.shape, h.shape, c.shape, out2.shape)\n"
   ]
  },
  {
   "cell_type": "code",
   "execution_count": 9,
   "metadata": {},
   "outputs": [],
   "source": [
    "model = LSTMModel().to(device)\n",
    "optimizer = optim.Adam(model.parameters(), lr=0.001)\n",
    "loss_fn = nn.MSELoss()\n"
   ]
  },
  {
   "cell_type": "code",
   "execution_count": 50,
   "metadata": {},
   "outputs": [
    {
     "name": "stdout",
     "output_type": "stream",
     "text": [
      "torch.Size([64, 240, 1]) torch.Size([64, 1])\n"
     ]
    },
    {
     "data": {
      "text/plain": [
       "torch.Size([64, 1])"
      ]
     },
     "execution_count": 50,
     "metadata": {},
     "output_type": "execute_result"
    }
   ],
   "source": [
    "for f, t in train_loader: \n",
    "    print(f.shape, t.shape)\n",
    "    break\n",
    "\n",
    "model(f).shape"
   ]
  },
  {
   "cell_type": "code",
   "execution_count": 11,
   "metadata": {},
   "outputs": [
    {
     "name": "stdout",
     "output_type": "stream",
     "text": [
      "Epoch 0 Test loss: 3764.8789707187525\n",
      "Epoch 10 Test loss: 3572.661410184125\n",
      "Epoch 20 Test loss: 3391.7206799449777\n",
      "Epoch 30 Test loss: 3306.508428344214\n",
      "Epoch 40 Test loss: 3256.6269097077543\n",
      "Epoch 50 Test loss: 3240.431727927974\n",
      "Epoch 60 Test loss: 3210.934620360799\n",
      "Epoch 70 Test loss: 3198.7700109809675\n",
      "Epoch 80 Test loss: 3222.6733474143357\n",
      "Epoch 90 Test loss: 3231.3599094451015\n"
     ]
    }
   ],
   "source": [
    "n_epochs = 100\n",
    "for epoch in range(n_epochs): \n",
    "    model.train()\n",
    "    for X_batch, y_batch in train_loader: \n",
    "        y_pred = model(X_batch)\n",
    "        loss = loss_fn(y_pred, y_batch)\n",
    "\n",
    "        optimizer.zero_grad()\n",
    "        loss.backward()\n",
    "        optimizer.step()\n",
    "\n",
    "    if epoch % 10 != 0: \n",
    "        continue\n",
    "\n",
    "    model.eval()\n",
    "    with torch.no_grad(): \n",
    "        test_loss = 0\n",
    "        for X_batch, y_batch in test_loader: \n",
    "            y_pred = model(X_batch)\n",
    "            test_loss += loss_fn(y_pred, y_batch).item()\n",
    "        print(f\"Epoch {epoch} Test loss: {test_loss/len(test_loader)}\")\n"
   ]
  },
  {
   "cell_type": "code",
   "execution_count": 15,
   "metadata": {},
   "outputs": [
    {
     "data": {
      "text/plain": [
       "torch.Size([8, 240, 1])"
      ]
     },
     "execution_count": 15,
     "metadata": {},
     "output_type": "execute_result"
    }
   ],
   "source": []
  },
  {
   "cell_type": "code",
   "execution_count": 17,
   "metadata": {},
   "outputs": [
    {
     "data": {
      "text/plain": [
       "torch.Size([6568, 240, 1])"
      ]
     },
     "execution_count": 17,
     "metadata": {},
     "output_type": "execute_result"
    }
   ],
   "source": []
  },
  {
   "cell_type": "code",
   "execution_count": 24,
   "metadata": {},
   "outputs": [],
   "source": [
    "# with torch.no_grad(): \n",
    "#     train_plot = np.ones_like(timeseries) * np.nan\n",
    "#     y_pred = model(X_train)\n",
    "#     y_pred = y_pred[:, -1, :]\n",
    "#     train_plot[lookback:train_size] = model(X_train)[:, -1, :]\n",
    "#     test_plot = np.ones_like(timeseries) * np.nan\n",
    "#     test_plot[train_size+lookback:] = model(X_test)[:, -1, :]\n",
    "\n",
    "# plt.plot(timeseries, label='Original', color='black')\n",
    "# plt.plot(train_plot, label='Train', color='blue')\n",
    "# plt.plot(test_plot, label='Test', color='red')\n",
    "\n",
    "import plotly.graph_objects as go\n",
    "import plotly.express as px\n",
    "\n",
    "\n",
    "with torch.no_grad(): \n",
    "    train_plot = np.ones_like(dataset) * np.nan\n",
    "    y_pred = model(X_train)\n",
    "    train_plot[lookback:train_size] = y_pred.cpu().numpy()\n",
    "    test_plot = np.ones_like(dataset) * np.nan\n",
    "    test_plot[train_size+lookback:] = model(X_test).cpu().numpy()\n",
    "    # px.line(y=y_pred.cpu().numpy().flatten())\n",
    "    fig = go.Figure()\n",
    "    fig.add_trace(go.Scatter(y=dataset.flatten(), mode='lines', name='Original'))\n",
    "    fig.add_trace(go.Scatter(y=train_plot.flatten(), mode='lines', name='Train'))\n",
    "    fig.add_trace(go.Scatter(y=test_plot.flatten(), mode='lines', name='Test'))\n",
    "    # fig.show()"
   ]
  },
  {
   "cell_type": "code",
   "execution_count": 28,
   "metadata": {},
   "outputs": [],
   "source": [
    "fig.write_html(\"figure.html\")\n"
   ]
  },
  {
   "cell_type": "code",
   "execution_count": null,
   "metadata": {},
   "outputs": [],
   "source": []
  }
 ],
 "metadata": {
  "kernelspec": {
   "display_name": "ML",
   "language": "python",
   "name": "ml"
  },
  "language_info": {
   "codemirror_mode": {
    "name": "ipython",
    "version": 3
   },
   "file_extension": ".py",
   "mimetype": "text/x-python",
   "name": "python",
   "nbconvert_exporter": "python",
   "pygments_lexer": "ipython3",
   "version": "3.11.8"
  }
 },
 "nbformat": 4,
 "nbformat_minor": 2
}
