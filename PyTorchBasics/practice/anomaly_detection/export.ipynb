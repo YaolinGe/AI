{
 "cells": [
  {
   "cell_type": "code",
   "execution_count": 2,
   "metadata": {},
   "outputs": [],
   "source": [
    "import torch \n",
    "import torch.nn as nn\n",
    "import torch.optim as optim\n",
    "import numpy as np\n",
    "import matplotlib.pyplot as plt\n",
    "import os \n",
    "from preprocessing import preprocessing, create_sequences\n",
    "from model.LSTMAutoEncoder import LSTMAutoEncoder\n",
    "from training import training_loop\n",
    "\n",
    "%reload_ext autoreload\n",
    "%autoreload 2"
   ]
  },
  {
   "cell_type": "code",
   "execution_count": 3,
   "metadata": {},
   "outputs": [
    {
     "name": "stdout",
     "output_type": "stream",
     "text": [
      "torch.Size([20417, 50, 1]) torch.Size([6772, 50, 1]) torch.Size([6773, 50, 1])\n"
     ]
    }
   ],
   "source": [
    "filepath = os.path.join(\".\", \"data\", \"YaoBox\", \"Box2StrainRaw1.csv\")\n",
    "t, value = preprocessing(filepath)\n",
    "\n",
    "train_size = .6\n",
    "val_size = .2\n",
    "test_size = .2\n",
    "train_data = value[:int(len(value) * train_size)]\n",
    "val_data = value[int(len(value) * train_size):int(len(value) * (train_size + val_size))]\n",
    "test_data = value[int(len(value) * (train_size + val_size)):]\n",
    "\n",
    "window_size = 50\n",
    "train_sequences = create_sequences(train_data, window_size)\n",
    "val_sequences = create_sequences(val_data, window_size)\n",
    "test_sequences = create_sequences(test_data, window_size)\n",
    "\n",
    "device = torch.device(\"cuda\" if torch.cuda.is_available() else \"cpu\")\n",
    "\n",
    "train_dataset = torch.tensor(train_sequences, dtype=torch.float32).unsqueeze(-1).to(device)\n",
    "val_dataset = torch.tensor(val_sequences, dtype=torch.float32).unsqueeze(-1).to(device)\n",
    "test_dataset = torch.tensor(test_sequences, dtype=torch.float32).unsqueeze(-1).to(device)\n",
    "\n",
    "print(train_dataset.shape, val_dataset.shape, test_dataset.shape)"
   ]
  },
  {
   "cell_type": "code",
   "execution_count": 6,
   "metadata": {},
   "outputs": [
    {
     "data": {
      "text/plain": [
       "LSTMAutoEncoder(\n",
       "  (encoder): Encoder(\n",
       "    (lstm1): LSTM(1, 64, batch_first=True)\n",
       "    (lstm2): LSTM(64, 16, batch_first=True)\n",
       "  )\n",
       "  (decoder): Decoder(\n",
       "    (lstm1): LSTM(16, 64, batch_first=True)\n",
       "    (lstm2): LSTM(64, 1, batch_first=True)\n",
       "    (fc): Linear(in_features=1, out_features=1, bias=True)\n",
       "  )\n",
       ")"
      ]
     },
     "execution_count": 6,
     "metadata": {},
     "output_type": "execute_result"
    }
   ],
   "source": [
    "model = LSTMAutoEncoder().to(device)\n",
    "loss_fn = nn.MSELoss()\n",
    "optimizer = optim.Adam(model.parameters(), lr=1e-3)\n",
    "model"
   ]
  },
  {
   "cell_type": "code",
   "execution_count": 7,
   "metadata": {},
   "outputs": [
    {
     "name": "stdout",
     "output_type": "stream",
     "text": [
      "Epoch 0: Train Loss: 0.9527671933174133, Val Loss: 0.7287243008613586\n",
      "Epoch 10: Train Loss: 0.64486163854599, Val Loss: 0.4779908061027527\n",
      "Epoch 20: Train Loss: 0.5626871585845947, Val Loss: 0.4225757420063019\n",
      "Epoch 30: Train Loss: 0.5464721918106079, Val Loss: 0.40932711958885193\n",
      "Epoch 40: Train Loss: 0.5325376391410828, Val Loss: 0.39770573377609253\n",
      "Epoch 50: Train Loss: 0.5192403793334961, Val Loss: 0.386606901884079\n",
      "Epoch 60: Train Loss: 0.5062806606292725, Val Loss: 0.375809907913208\n",
      "Epoch 70: Train Loss: 0.4935781955718994, Val Loss: 0.3652551770210266\n",
      "Epoch 80: Train Loss: 0.4811131954193115, Val Loss: 0.3549274802207947\n",
      "Epoch 90: Train Loss: 0.4688847064971924, Val Loss: 0.3448256552219391\n"
     ]
    }
   ],
   "source": [
    "train_loss, val_loss, accuracy = training_loop(model, train_dataset, val_dataset, optimizer, loss_fn, epochs=100)\n"
   ]
  },
  {
   "cell_type": "code",
   "execution_count": 11,
   "metadata": {},
   "outputs": [
    {
     "data": {
      "text/plain": [
       "<bound method Module.parameters of LSTMAutoEncoder(\n",
       "  (encoder): Encoder(\n",
       "    (lstm1): LSTM(1, 64, batch_first=True)\n",
       "    (lstm2): LSTM(64, 16, batch_first=True)\n",
       "  )\n",
       "  (decoder): Decoder(\n",
       "    (lstm1): LSTM(16, 64, batch_first=True)\n",
       "    (lstm2): LSTM(64, 1, batch_first=True)\n",
       "    (fc): Linear(in_features=1, out_features=1, bias=True)\n",
       "  )\n",
       ")>"
      ]
     },
     "execution_count": 11,
     "metadata": {},
     "output_type": "execute_result"
    }
   ],
   "source": []
  },
  {
   "cell_type": "code",
   "execution_count": null,
   "metadata": {},
   "outputs": [],
   "source": []
  }
 ],
 "metadata": {
  "kernelspec": {
   "display_name": "ML",
   "language": "python",
   "name": "ml"
  },
  "language_info": {
   "codemirror_mode": {
    "name": "ipython",
    "version": 3
   },
   "file_extension": ".py",
   "mimetype": "text/x-python",
   "name": "python",
   "nbconvert_exporter": "python",
   "pygments_lexer": "ipython3",
   "version": "3.11.8"
  }
 },
 "nbformat": 4,
 "nbformat_minor": 2
}
