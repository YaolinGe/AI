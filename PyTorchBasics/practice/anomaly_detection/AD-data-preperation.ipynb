{
 "cells": [
  {
   "cell_type": "code",
   "execution_count": 1,
   "metadata": {},
   "outputs": [],
   "source": [
    "import numpy as np\n",
    "import matplotlib.pyplot as plt\n",
    "import pandas as pd \n",
    "import seaborn as sns\n",
    "import os \n",
    "\n",
    "%reload_ext autoreload\n",
    "%autoreload 2"
   ]
  },
  {
   "cell_type": "code",
   "execution_count": 2,
   "metadata": {},
   "outputs": [],
   "source": [
    "folderpath = os.path.join(os.getcwd(), 'data', 'YaoBox')\n",
    "files = os.listdir(folderpath)\n",
    "sensors_selected = ['Accelerometer', 'Strain']\n",
    "files = [f for f in files if any(sensor in f for sensor in sensors_selected)]\n",
    "\n",
    "df = {}\n",
    "for f in files: \n",
    "    key = f.replace('Box1', '').replace('Box2', '').replace('Raw', '').replace('.csv', '').replace('G0', '_X').replace('G1', '_Y').replace('G2', '_Z')\n",
    "    df[key] = pd.read_csv(os.path.join(folderpath, f))\n",
    "\n"
   ]
  },
  {
   "cell_type": "code",
   "execution_count": 4,
   "metadata": {},
   "outputs": [
    {
     "data": {
      "text/plain": [
       "dict_keys(['Accelerometer2X', 'Accelerometer2Y', 'Accelerometer2Z', 'Accelerometer50X', 'Accelerometer50Y', 'Strain0', 'Strain1'])"
      ]
     },
     "execution_count": 4,
     "metadata": {},
     "output_type": "execute_result"
    }
   ],
   "source": [
    "df.keys()"
   ]
  },
  {
   "cell_type": "code",
   "execution_count": null,
   "metadata": {},
   "outputs": [],
   "source": []
  }
 ],
 "metadata": {
  "kernelspec": {
   "display_name": "ML",
   "language": "python",
   "name": "ml"
  },
  "language_info": {
   "codemirror_mode": {
    "name": "ipython",
    "version": 3
   },
   "file_extension": ".py",
   "mimetype": "text/x-python",
   "name": "python",
   "nbconvert_exporter": "python",
   "pygments_lexer": "ipython3",
   "version": "3.11.8"
  }
 },
 "nbformat": 4,
 "nbformat_minor": 2
}
