{
 "cells": [
  {
   "cell_type": "code",
   "execution_count": 3,
   "metadata": {},
   "outputs": [],
   "source": [
    "import numpy as np\n",
    "import pandas as pd \n",
    "import seaborn as sns\n",
    "import os \n",
    "import plotly.express as px\n",
    "\n",
    "%reload_ext autoreload\n",
    "%autoreload 2"
   ]
  },
  {
   "cell_type": "code",
   "execution_count": 4,
   "metadata": {},
   "outputs": [],
   "source": [
    "folderpath = os.path.join(os.getcwd(), 'data', 'YaoBox')\n",
    "files = os.listdir(folderpath)\n",
    "sensors_selected = ['Accelerometer', 'Strain']\n",
    "files = [f for f in files if any(sensor in f for sensor in sensors_selected)]\n",
    "\n",
    "df = {}\n",
    "for f in files: \n",
    "    key = f.replace('Box1', '').replace('Box2', '').replace('Raw', '').replace('.csv', '').replace('G0', '_X').replace('G1', '_Y').replace('G2', '_Z')\n",
    "    df[key] = pd.read_csv(os.path.join(folderpath, f))\n"
   ]
  },
  {
   "cell_type": "code",
   "execution_count": 13,
   "metadata": {},
   "outputs": [
    {
     "name": "stdout",
     "output_type": "stream",
     "text": [
      "Accelerometer2_X.csv saved\n",
      "Accelerometer2_Y.csv saved\n",
      "Accelerometer2_Z.csv saved\n",
      "Accelerometer50_X.csv saved\n",
      "Accelerometer50_Y.csv saved\n",
      "Strain0.csv saved\n",
      "Strain1.csv saved\n"
     ]
    }
   ],
   "source": [
    "df_clipped = {}\n",
    "for key in df: \n",
    "    df_clipped[key] = df[key][df[key]['Time'] > '00:01:10']\n",
    "    df_clipped[key].to_csv(os.path.join(folderpath, f\"{key}.csv\"), index=False, columns=['Time', 'Value'])\n",
    "    print(f\"{key}.csv saved\")"
   ]
  },
  {
   "cell_type": "code",
   "execution_count": null,
   "metadata": {},
   "outputs": [],
   "source": []
  },
  {
   "cell_type": "code",
   "execution_count": null,
   "metadata": {},
   "outputs": [],
   "source": []
  },
  {
   "cell_type": "code",
   "execution_count": null,
   "metadata": {},
   "outputs": [],
   "source": []
  }
 ],
 "metadata": {
  "kernelspec": {
   "display_name": "ML",
   "language": "python",
   "name": "ml"
  },
  "language_info": {
   "codemirror_mode": {
    "name": "ipython",
    "version": 3
   },
   "file_extension": ".py",
   "mimetype": "text/x-python",
   "name": "python",
   "nbconvert_exporter": "python",
   "pygments_lexer": "ipython3",
   "version": "3.11.8"
  }
 },
 "nbformat": 4,
 "nbformat_minor": 2
}
